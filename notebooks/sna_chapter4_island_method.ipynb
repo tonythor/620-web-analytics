{
 "cells": [
  {
   "cell_type": "code",
   "execution_count": 1,
   "id": "1e802c56-96e3-40d7-802e-eda7e2f0aea9",
   "metadata": {},
   "outputs": [],
   "source": [
    "%matplotlib inline"
   ]
  },
  {
   "cell_type": "code",
   "execution_count": 2,
   "id": "ebc35ba3-68f1-4603-9f23-17e28a1885e2",
   "metadata": {},
   "outputs": [],
   "source": [
    "from IPython.core.interactiveshell import InteractiveShell\n",
    "InteractiveShell.ast_node_interactivity = \"all\""
   ]
  },
  {
   "cell_type": "code",
   "execution_count": 3,
   "id": "a2d34156-2b6f-4308-861a-7c511738753f",
   "metadata": {},
   "outputs": [],
   "source": [
    "import pandas as pd\n",
    "import numpy as np\n",
    "import networkx as nx\n",
    "import matplotlib.pyplot as plt\n",
    "import requests\n",
    "import seaborn as sns"
   ]
  },
  {
   "cell_type": "code",
   "execution_count": 5,
   "id": "b175c707-f059-4285-994a-6f7431393412",
   "metadata": {},
   "outputs": [
    {
     "data": {
      "text/plain": [
       "25178"
      ]
     },
     "execution_count": 5,
     "metadata": {},
     "output_type": "execute_result"
    }
   ],
   "source": [
    "e = nx.read_pajek(\"chapter1/egypt_retweets.net\")\n",
    "len(e)"
   ]
  },
  {
   "cell_type": "markdown",
   "id": "70a068b6-8dbc-45a4-9788-c6489a92dfa6",
   "metadata": {},
   "source": [
    "### Use _connected_components_ instead of _connected_component_subgraphs_ for new versions of NetworkX"
   ]
  },
  {
   "cell_type": "code",
   "execution_count": 10,
   "id": "acd72c24-f8f6-486e-adae-5cd671b55d5a",
   "metadata": {},
   "outputs": [
    {
     "data": {
      "text/plain": [
       "3122"
      ]
     },
     "execution_count": 10,
     "metadata": {},
     "output_type": "execute_result"
    }
   ],
   "source": [
    "len(list(nx.connected_components(e)))"
   ]
  },
  {
   "cell_type": "code",
   "execution_count": 16,
   "id": "65199641-ee08-460d-95dc-222ec7eb8e7b",
   "metadata": {},
   "outputs": [
    {
     "data": {
      "text/plain": [
       "(array([3.121e+03, 0.000e+00, 0.000e+00, 0.000e+00, 0.000e+00, 0.000e+00,\n",
       "        0.000e+00, 0.000e+00, 0.000e+00, 1.000e+00]),\n",
       " array([1.00000e+00, 1.77710e+03, 3.55320e+03, 5.32930e+03, 7.10540e+03,\n",
       "        8.88150e+03, 1.06576e+04, 1.24337e+04, 1.42098e+04, 1.59859e+04,\n",
       "        1.77620e+04]),\n",
       " <BarContainer object of 10 artists>)"
      ]
     },
     "execution_count": 16,
     "metadata": {},
     "output_type": "execute_result"
    },
    {
     "data": {
      "image/png": "[encoded data removed]",
      "text/plain": [
       "<Figure size 640x480 with 1 Axes>"
      ]
     },
     "metadata": {},
     "output_type": "display_data"
    }
   ],
   "source": [
    "x = [len(c) for c in nx.connected_components(e)]\n",
    "plt.hist(x)"
   ]
  },
  {
   "cell_type": "code",
   "execution_count": 17,
   "id": "38bb2fae-e4a7-4a13-bd39-47adc1199eae",
   "metadata": {},
   "outputs": [
    {
     "data": {
      "text/plain": [
       "[17762, 64, 16, 13, 11, 11, 14, 16]"
      ]
     },
     "execution_count": 17,
     "metadata": {},
     "output_type": "execute_result"
    }
   ],
   "source": [
    "[len(c) for c in nx.connected_components(e) if len(c) > 10]"
   ]
  },
  {
   "cell_type": "code",
   "execution_count": 48,
   "id": "3407efa5-f136-4638-ad3d-76bfa34cac45",
   "metadata": {},
   "outputs": [],
   "source": [
    "def trim_edges(g, weight=1):\n",
    "    \"\"\"\n",
    "    Takes a graph, and applies a threshold (“water level”), \n",
    "    letting all edges above a certain value through, and removing all others. \n",
    "    \n",
    "    It returns a copy of the original graph, so it’s non-destructive\n",
    "    \"\"\"\n",
    "    g2 = nx.Graph()\n",
    "    for f, to, edata in g.edges(data=True):\n",
    "        if edata['weight'] > weight:\n",
    "            g2.add_edge(f, to, **edata)\n",
    "    \n",
    "    return g2"
   ]
  },
  {
   "cell_type": "code",
   "execution_count": 49,
   "id": "6ad5cd10-81c2-460b-9845-6b21ea051c63",
   "metadata": {},
   "outputs": [],
   "source": [
    "def island_method(g, iterations=5):\n",
    "    weights = [edata['weight'] for f, to, edata in g.edges(data=True)]\n",
    "    mn = int(min(weights))\n",
    "    mx = int(max(weights))\n",
    "    # compute the size of the step, so we get a reasonable step in iterations\n",
    "    step = int((mx-mn)/iterations)\n",
    "    \n",
    "    return [[threshold, trim_edges(g, threshold)] for threshold in range(mn,mx,step)]"
   ]
  },
  {
   "cell_type": "markdown",
   "id": "d6f546ff-7143-4596-995b-dfe8d60e586d",
   "metadata": {},
   "source": [
    "### Convert the generator of connected components to a list (to mimic the book)"
   ]
  },
  {
   "cell_type": "code",
   "execution_count": 50,
   "id": "68a3bdc5-9adb-4f16-919f-ca5bb086682a",
   "metadata": {},
   "outputs": [],
   "source": [
    "subgraphs = list(nx.connected_components(e))"
   ]
  },
  {
   "cell_type": "code",
   "execution_count": 51,
   "id": "e7750ce8-d324-440f-8c8a-465caccd580f",
   "metadata": {},
   "outputs": [],
   "source": [
    "cc = subgraphs[0]"
   ]
  },
  {
   "cell_type": "markdown",
   "id": "1c6d8370-6ea7-4574-a13d-1226aa60b136",
   "metadata": {},
   "source": [
    "### Apply the island method"
   ]
  },
  {
   "cell_type": "code",
   "execution_count": 52,
   "id": "4ea35d93-4114-4628-bdb5-3aac6906c34c",
   "metadata": {},
   "outputs": [],
   "source": [
    "# reate the induced subgraph of the component\n",
    "islands = island_method(e.subgraph(cc))"
   ]
  },
  {
   "cell_type": "code",
   "execution_count": 53,
   "id": "f8291e37-8613-4333-8883-1c35f9c1b88a",
   "metadata": {},
   "outputs": [
    {
     "name": "stdout",
     "output_type": "stream",
     "text": [
      "1 12360 314\n",
      "62 27 11\n",
      "123 8 3\n",
      "184 5 2\n",
      "245 5 2\n"
     ]
    }
   ],
   "source": [
    "for i in islands:\n",
    "    # print the threshold level, size of the graph, and number of connected components\n",
    "    print (i[0], len(i[1]), len(list(nx.connected_components(i[1]))))"
   ]
  },
  {
   "cell_type": "code",
   "execution_count": null,
   "id": "fc39379f-2187-4d9b-958b-b6b94cac82cc",
   "metadata": {},
   "outputs": [],
   "source": []
  }
 ],
 "metadata": {
  "kernelspec": {
   "display_name": "Python 3 (ipykernel)",
   "language": "python",
   "name": "python3"
  },
  "language_info": {
   "codemirror_mode": {
    "name": "ipython",
    "version": 3
   },
   "file_extension": ".py",
   "mimetype": "text/x-python",
   "name": "python",
   "nbconvert_exporter": "python",
   "pygments_lexer": "ipython3",
   "version": "3.10.15"
  }
 },
 "nbformat": 4,
 "nbformat_minor": 5
}
